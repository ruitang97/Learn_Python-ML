{
 "cells": [
  {
   "cell_type": "markdown",
   "metadata": {},
   "source": [
    "### 练习-手写数字识别"
   ]
  },
  {
   "cell_type": "code",
   "execution_count": 1,
   "metadata": {},
   "outputs": [],
   "source": [
    "#导入需要使用的库\n",
    "import matplotlib.pyplot as plt\n",
    "import pandas as pd\n",
    "from sklearn.model_selection import  train_test_split\n",
    "from sklearn.neighbors import KNeighborsClassifier\n",
    "import joblib#加载之前用同样的joblib库保存的机器学习模型进行预测服务,\n",
    "from collections import Counter#计数"
   ]
  },
  {
   "cell_type": "code",
   "execution_count": 2,
   "metadata": {},
   "outputs": [],
   "source": [
    "def show_digit(idx):\n",
    "\n",
    "    # 加载数据\n",
    "    data = pd.read_csv('data/手写数字识别.csv')\n",
    "    if idx < 0 or idx > len(data) - 1:\n",
    "        return\n",
    "    #如果idx小于0或者大于数据长度,直接返回,不执行后续代码目的是防止idx索引超出实际数据范围,避免报错\n",
    "    x = data.iloc[:, 1:]#样本\n",
    "    y = data.iloc[:,0]#标签\n",
    "    print('当前数字的标签为:',y[idx])\n",
    "\n",
    "    # data 修改为 ndarray 类型\n",
    "    data_ = x.iloc[idx].values\n",
    "    # 将数据形状修改为 28*28\n",
    "    # 因为数据是一列的形式储存的,所以需要重排\n",
    "    data_ = data_.reshape(28, 28)\n",
    "    # 关闭坐标轴标签\n",
    "    plt.axis('off')\n",
    "    # 显示图像\n",
    "    plt.imshow(data_)#mshow函数会根据数组值绘制对应的像素点,形成完整的图像\n",
    "    plt.show()"
   ]
  },
  {
   "cell_type": "code",
   "execution_count": 3,
   "metadata": {},
   "outputs": [],
   "source": [
    "def train_model():\n",
    "\n",
    "    # 1. 加载手写数字数据集\n",
    "    data = pd.read_csv('data/手写数字识别.csv')\n",
    "    x = data.iloc[:, 1:] / 255\n",
    "    y = data.iloc[:, 0]\n",
    "\n",
    "    # 2. 打印数据基本信息\n",
    "    print('数据基本信息:', x.shape)\n",
    "    print('类别数据比例:', Counter(y))\n",
    "\n",
    "    # 3. 分割数据集\n",
    "    split_data = train_test_split(x, y, test_size=0.2, stratify=y, random_state=0)\n",
    "    #test_size=0.2表示训练集与测试集八二开\n",
    "    #stratify=y表示的是分层抽样,保持不同类别在训练集测试集中的比例分布一致,提高模型在各个类别上的泛化能力,避免某些少见类别样本过少影响结果\n",
    "    #random_state=0是设置随机种子为0,这其实是一种伪随机,为的是更方便的复现结果\n",
    "    x_train, x_test, y_train, y_test = split_data\n",
    "\n",
    "    # 4. 模型训练\n",
    "    estimator = KNeighborsClassifier(n_neighbors=3)#knn=3\n",
    "    estimator.fit(x_train, y_train)\n",
    "\n",
    "    # 5. 模型评估\n",
    "    acc = estimator.score(x_test, y_test)\n",
    "    print('测试集准确率: %.2f' % acc)\n",
    "\n",
    "    # 6. 模型保存\n",
    "    joblib.dump(estimator, 'model/knn.pth')#保存模型的结果,等于已经训练完成,方便后续自己调用"
   ]
  },
  {
   "cell_type": "code",
   "execution_count": 4,
   "metadata": {},
   "outputs": [],
   "source": [
    "def test_model():\n",
    "    # 读取图片数据\n",
    "    import matplotlib.pyplot as plt\n",
    "    import joblib\n",
    "    img = plt.imread('temp/demo.png')#plt.imread()是Matplotlib中的图像读取函数,返回的Numpy ndarray形式的数据,包含图片的像素值数据\n",
    "#没有找到相关的测试图片,所以运行的时候回报错\n",
    "    plt.imshow(img)\n",
    "    # 加载模型\n",
    "    knn = joblib.load('model/knn.pth')\n",
    "    y_pred = knn.predict(img.reshape(1, -1))\n",
    "    print('您绘制的数字是:', y_pred)"
   ]
  },
  {
   "cell_type": "code",
   "execution_count": 8,
   "metadata": {},
   "outputs": [
    {
     "name": "stdout",
     "output_type": "stream",
     "text": [
      "当前数字的标签为: 0\n"
     ]
    },
    {
     "data": {
      "image/png": "[encoded data removed]",
      "text/plain": [
       "<Figure size 640x480 with 1 Axes>"
      ]
     },
     "metadata": {},
     "output_type": "display_data"
    },
    {
     "name": "stdout",
     "output_type": "stream",
     "text": [
      "数据基本信息: (42000, 784)\n",
      "类别数据比例: Counter({1: 4684, 7: 4401, 3: 4351, 9: 4188, 2: 4177, 6: 4137, 0: 4132, 4: 4072, 8: 4063, 5: 3795})\n",
      "测试集准确率: 0.97\n"
     ]
    },
    {
     "ename": "FileNotFoundError",
     "evalue": "[Errno 2] No such file or directory: 'temp/demo.png'",
     "output_type": "error",
     "traceback": [
      "\u001b[0;31m---------------------------------------------------------------------------\u001b[0m",
      "\u001b[0;31mFileNotFoundError\u001b[0m                         Traceback (most recent call last)",
      "\u001b[1;32m/Users/tangrui/Documents/GitHub/ML/method/knn.ipynb 单元格 5\u001b[0m line \u001b[0;36m7\n\u001b[1;32m      <a href='vscode-notebook-cell:/Users/tangrui/Documents/GitHub/ML/method/knn.ipynb#W4sZmlsZQ%3D%3D?line=4'>5</a>\u001b[0m train_model()\n\u001b[1;32m      <a href='vscode-notebook-cell:/Users/tangrui/Documents/GitHub/ML/method/knn.ipynb#W4sZmlsZQ%3D%3D?line=5'>6</a>\u001b[0m \u001b[39m# 测试模型\u001b[39;00m\n\u001b[0;32m----> <a href='vscode-notebook-cell:/Users/tangrui/Documents/GitHub/ML/method/knn.ipynb#W4sZmlsZQ%3D%3D?line=6'>7</a>\u001b[0m test_model()\n",
      "\u001b[1;32m/Users/tangrui/Documents/GitHub/ML/method/knn.ipynb 单元格 5\u001b[0m line \u001b[0;36m5\n\u001b[1;32m      <a href='vscode-notebook-cell:/Users/tangrui/Documents/GitHub/ML/method/knn.ipynb#W4sZmlsZQ%3D%3D?line=2'>3</a>\u001b[0m \u001b[39mimport\u001b[39;00m \u001b[39mmatplotlib\u001b[39;00m\u001b[39m.\u001b[39;00m\u001b[39mpyplot\u001b[39;00m \u001b[39mas\u001b[39;00m \u001b[39mplt\u001b[39;00m\n\u001b[1;32m      <a href='vscode-notebook-cell:/Users/tangrui/Documents/GitHub/ML/method/knn.ipynb#W4sZmlsZQ%3D%3D?line=3'>4</a>\u001b[0m \u001b[39mimport\u001b[39;00m \u001b[39mjoblib\u001b[39;00m\n\u001b[0;32m----> <a href='vscode-notebook-cell:/Users/tangrui/Documents/GitHub/ML/method/knn.ipynb#W4sZmlsZQ%3D%3D?line=4'>5</a>\u001b[0m img \u001b[39m=\u001b[39m plt\u001b[39m.\u001b[39mimread(\u001b[39m'\u001b[39m\u001b[39mtemp/demo.png\u001b[39m\u001b[39m'\u001b[39m)\u001b[39m#plt.imread()是Matplotlib中的图像读取函数,返回的Numpy ndarray形式的数据,包含图片的像素值数据\u001b[39;00m\n\u001b[1;32m      <a href='vscode-notebook-cell:/Users/tangrui/Documents/GitHub/ML/method/knn.ipynb#W4sZmlsZQ%3D%3D?line=5'>6</a>\u001b[0m plt\u001b[39m.\u001b[39mimshow(img)\n\u001b[1;32m      <a href='vscode-notebook-cell:/Users/tangrui/Documents/GitHub/ML/method/knn.ipynb#W4sZmlsZQ%3D%3D?line=6'>7</a>\u001b[0m \u001b[39m# 加载模型\u001b[39;00m\n",
      "File \u001b[0;32m~/anaconda3/lib/python3.11/site-packages/matplotlib/pyplot.py:2195\u001b[0m, in \u001b[0;36mimread\u001b[0;34m(fname, format)\u001b[0m\n\u001b[1;32m   2193\u001b[0m \u001b[39m@_copy_docstring_and_deprecators\u001b[39m(matplotlib\u001b[39m.\u001b[39mimage\u001b[39m.\u001b[39mimread)\n\u001b[1;32m   2194\u001b[0m \u001b[39mdef\u001b[39;00m \u001b[39mimread\u001b[39m(fname, \u001b[39mformat\u001b[39m\u001b[39m=\u001b[39m\u001b[39mNone\u001b[39;00m):\n\u001b[0;32m-> 2195\u001b[0m     \u001b[39mreturn\u001b[39;00m matplotlib\u001b[39m.\u001b[39mimage\u001b[39m.\u001b[39mimread(fname, \u001b[39mformat\u001b[39m)\n",
      "File \u001b[0;32m~/anaconda3/lib/python3.11/site-packages/matplotlib/image.py:1563\u001b[0m, in \u001b[0;36mimread\u001b[0;34m(fname, format)\u001b[0m\n\u001b[1;32m   1556\u001b[0m \u001b[39mif\u001b[39;00m \u001b[39misinstance\u001b[39m(fname, \u001b[39mstr\u001b[39m) \u001b[39mand\u001b[39;00m \u001b[39mlen\u001b[39m(parse\u001b[39m.\u001b[39murlparse(fname)\u001b[39m.\u001b[39mscheme) \u001b[39m>\u001b[39m \u001b[39m1\u001b[39m:\n\u001b[1;32m   1557\u001b[0m     \u001b[39m# Pillow doesn't handle URLs directly.\u001b[39;00m\n\u001b[1;32m   1558\u001b[0m     \u001b[39mraise\u001b[39;00m \u001b[39mValueError\u001b[39;00m(\n\u001b[1;32m   1559\u001b[0m         \u001b[39m\"\u001b[39m\u001b[39mPlease open the URL for reading and pass the \u001b[39m\u001b[39m\"\u001b[39m\n\u001b[1;32m   1560\u001b[0m         \u001b[39m\"\u001b[39m\u001b[39mresult to Pillow, e.g. with \u001b[39m\u001b[39m\"\u001b[39m\n\u001b[1;32m   1561\u001b[0m         \u001b[39m\"\u001b[39m\u001b[39m``np.array(PIL.Image.open(urllib.request.urlopen(url)))``.\u001b[39m\u001b[39m\"\u001b[39m\n\u001b[1;32m   1562\u001b[0m         )\n\u001b[0;32m-> 1563\u001b[0m \u001b[39mwith\u001b[39;00m img_open(fname) \u001b[39mas\u001b[39;00m image:\n\u001b[1;32m   1564\u001b[0m     \u001b[39mreturn\u001b[39;00m (_pil_png_to_float_array(image)\n\u001b[1;32m   1565\u001b[0m             \u001b[39mif\u001b[39;00m \u001b[39misinstance\u001b[39m(image, PIL\u001b[39m.\u001b[39mPngImagePlugin\u001b[39m.\u001b[39mPngImageFile) \u001b[39melse\u001b[39;00m\n\u001b[1;32m   1566\u001b[0m             pil_to_array(image))\n",
      "File \u001b[0;32m~/anaconda3/lib/python3.11/site-packages/PIL/ImageFile.py:105\u001b[0m, in \u001b[0;36mImageFile.__init__\u001b[0;34m(self, fp, filename)\u001b[0m\n\u001b[1;32m    101\u001b[0m \u001b[39mself\u001b[39m\u001b[39m.\u001b[39mdecodermaxblock \u001b[39m=\u001b[39m MAXBLOCK\n\u001b[1;32m    103\u001b[0m \u001b[39mif\u001b[39;00m is_path(fp):\n\u001b[1;32m    104\u001b[0m     \u001b[39m# filename\u001b[39;00m\n\u001b[0;32m--> 105\u001b[0m     \u001b[39mself\u001b[39m\u001b[39m.\u001b[39mfp \u001b[39m=\u001b[39m \u001b[39mopen\u001b[39m(fp, \u001b[39m\"\u001b[39m\u001b[39mrb\u001b[39m\u001b[39m\"\u001b[39m)\n\u001b[1;32m    106\u001b[0m     \u001b[39mself\u001b[39m\u001b[39m.\u001b[39mfilename \u001b[39m=\u001b[39m fp\n\u001b[1;32m    107\u001b[0m     \u001b[39mself\u001b[39m\u001b[39m.\u001b[39m_exclusive_fp \u001b[39m=\u001b[39m \u001b[39mTrue\u001b[39;00m\n",
      "\u001b[0;31mFileNotFoundError\u001b[0m: [Errno 2] No such file or directory: 'temp/demo.png'"
     ]
    }
   ],
   "source": [
    "if __name__ == '__main__':\n",
    "        # 显示部分数字\n",
    "    show_digit(1)\n",
    "    # 训练模型\n",
    "    train_model()\n",
    "    # 测试模型\n",
    "    test_model()"
   ]
  }
 ],
 "metadata": {
  "kernelspec": {
   "display_name": "base",
   "language": "python",
   "name": "python3"
  },
  "language_info": {
   "codemirror_mode": {
    "name": "ipython",
    "version": 3
   },
   "file_extension": ".py",
   "mimetype": "text/x-python",
   "name": "python",
   "nbconvert_exporter": "python",
   "pygments_lexer": "ipython3",
   "version": "3.11.3"
  },
  "orig_nbformat": 4
 },
 "nbformat": 4,
 "nbformat_minor": 2
}
